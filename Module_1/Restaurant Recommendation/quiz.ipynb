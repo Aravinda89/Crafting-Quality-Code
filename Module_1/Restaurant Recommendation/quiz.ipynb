{
 "cells": [
  {
   "cell_type": "code",
   "execution_count": 19,
   "id": "12bdf3b8",
   "metadata": {},
   "outputs": [],
   "source": [
    "def is_palindrome_v3(s):\n",
    "#     for i in range(len(s) // 2):\n",
    "#         if s[i] != s[len(s) - i]:\n",
    "#             return False\n",
    "#     return True\n",
    "\n",
    "#     j = len(s) - 1\n",
    "#     for i in range(len(s) // 2):\n",
    "#         if s[i] != s[j - i]:\n",
    "#             return False\n",
    "\n",
    "#     return True\n",
    "\n",
    "#     for i in range(len(s) // 2):\n",
    "#         if s[i] != s[len(s) - i - 1]:\n",
    "#             return False\n",
    "    \n",
    "#     return True\n",
    "\n",
    "    for i in range(len(s) // 2):\n",
    "        if s[i] != s[len(s) - i - 1]:\n",
    "            return False\n",
    "    \n",
    "    return True"
   ]
  },
  {
   "cell_type": "code",
   "execution_count": 20,
   "id": "7bedeaa3",
   "metadata": {},
   "outputs": [
    {
     "data": {
      "text/plain": [
       "True"
      ]
     },
     "execution_count": 20,
     "metadata": {},
     "output_type": "execute_result"
    }
   ],
   "source": [
    "is_palindrome_v3('noon')"
   ]
  },
  {
   "cell_type": "code",
   "execution_count": 21,
   "id": "1c1ed6bb",
   "metadata": {},
   "outputs": [
    {
     "data": {
      "text/plain": [
       "True"
      ]
     },
     "execution_count": 21,
     "metadata": {},
     "output_type": "execute_result"
    }
   ],
   "source": [
    "is_palindrome_v3('racecar')"
   ]
  },
  {
   "cell_type": "code",
   "execution_count": 22,
   "id": "09bd5075",
   "metadata": {},
   "outputs": [
    {
     "data": {
      "text/plain": [
       "False"
      ]
     },
     "execution_count": 22,
     "metadata": {},
     "output_type": "execute_result"
    }
   ],
   "source": [
    "is_palindrome_v3('dented')"
   ]
  },
  {
   "cell_type": "code",
   "execution_count": 44,
   "id": "0b57c4a3",
   "metadata": {},
   "outputs": [],
   "source": [
    "def count_startswith(L, ch):\n",
    "    \"\"\" (list of str, str) -> int\n",
    "\n",
    "    Precondition: the length of each item in L is >= 1, and len(ch) == 1\n",
    "\n",
    "   Return the number of strings in L that begin with ch.\n",
    "\n",
    "   >>> count_startswith(['rumba', 'salsa', 'samba'], 's')\n",
    "   2\n",
    "   \"\"\"\n",
    "\n",
    "#     count = 0\n",
    "\n",
    "#     for item in L:\n",
    "#         if item.startswith(ch):\n",
    "# \t        count = count + 1\n",
    "# \t        return count\n",
    "#         else:\n",
    "# \t        return count\n",
    "    \n",
    "    \n",
    "#     startswith = L[:]\n",
    "\n",
    "#     for item in L:\n",
    "#         if not item.startswith(ch):\n",
    "#             startswith.remove(item)\n",
    "\n",
    "#     return len(L)\n",
    "\n",
    "#     count = 0\n",
    "\n",
    "#     for item in L:\n",
    "# \t    if item.startswith(ch):\n",
    "# \t      count = count + 1\n",
    "\n",
    "#     return count\n",
    "\n",
    "    count = 0\n",
    "\n",
    "    for item in L:\n",
    "\t    if item.startswith(ch):\n",
    "\t      count = count + 1\n",
    "\n",
    "    return count"
   ]
  },
  {
   "cell_type": "code",
   "execution_count": 45,
   "id": "49cd9188",
   "metadata": {},
   "outputs": [
    {
     "data": {
      "text/plain": [
       "2"
      ]
     },
     "execution_count": 45,
     "metadata": {},
     "output_type": "execute_result"
    }
   ],
   "source": [
    "count_startswith(['rumba', 'salsa', 'samba'], 's')"
   ]
  },
  {
   "cell_type": "code",
   "execution_count": 46,
   "id": "68215d93",
   "metadata": {},
   "outputs": [],
   "source": [
    "s = 'asf12345'"
   ]
  },
  {
   "cell_type": "code",
   "execution_count": 48,
   "id": "a93590fb",
   "metadata": {},
   "outputs": [
    {
     "data": {
      "text/plain": [
       "'12345'"
      ]
     },
     "execution_count": 48,
     "metadata": {},
     "output_type": "execute_result"
    }
   ],
   "source": [
    "digits = \"\"\n",
    "\n",
    "for ch in s:\n",
    "    if ch.isdigit():\n",
    "        digits = digits + ch\n",
    "        \n",
    "digits"
   ]
  },
  {
   "cell_type": "code",
   "execution_count": 49,
   "id": "269c89fe",
   "metadata": {},
   "outputs": [
    {
     "data": {
      "text/plain": [
       "'12345'"
      ]
     },
     "execution_count": 49,
     "metadata": {},
     "output_type": "execute_result"
    }
   ],
   "source": [
    "digits = ''\n",
    "\n",
    "for i in range(len(s)):\n",
    "    if s[i].isdigit():\n",
    "        digits = digits + s[i]\n",
    "        \n",
    "digits"
   ]
  },
  {
   "cell_type": "code",
   "execution_count": 50,
   "id": "e2ffd95f",
   "metadata": {},
   "outputs": [
    {
     "data": {
      "text/plain": [
       "'12345'"
      ]
     },
     "execution_count": 50,
     "metadata": {},
     "output_type": "execute_result"
    }
   ],
   "source": [
    "digits = ''\n",
    "\n",
    "for ch in s:\n",
    "    if ch in '0123456789':\n",
    "        digits = digits + ch\n",
    "        \n",
    "digits"
   ]
  },
  {
   "cell_type": "code",
   "execution_count": 51,
   "id": "40bc198c",
   "metadata": {},
   "outputs": [
    {
     "data": {
      "text/plain": [
       "'12345'"
      ]
     },
     "execution_count": 51,
     "metadata": {},
     "output_type": "execute_result"
    }
   ],
   "source": [
    "indices = []\n",
    "digits = ''\n",
    "\n",
    "for i in range(len(s)):\n",
    "    if s[i].isdigit():\n",
    "        indices.append(i)\n",
    "\n",
    "for index in indices:\n",
    "    digits = digits + s[index]\n",
    "    \n",
    "digits"
   ]
  }
 ],
 "metadata": {
  "kernelspec": {
   "display_name": "TF_env",
   "language": "python",
   "name": "tf_env"
  },
  "language_info": {
   "codemirror_mode": {
    "name": "ipython",
    "version": 3
   },
   "file_extension": ".py",
   "mimetype": "text/x-python",
   "name": "python",
   "nbconvert_exporter": "python",
   "pygments_lexer": "ipython3",
   "version": "3.9.18"
  }
 },
 "nbformat": 4,
 "nbformat_minor": 5
}
