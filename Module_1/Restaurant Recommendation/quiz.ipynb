{
 "cells": [
  {
   "cell_type": "code",
   "execution_count": 19,
   "id": "12bdf3b8",
   "metadata": {},
   "outputs": [],
   "source": [
    "def is_palindrome_v3(s):\n",
    "#     for i in range(len(s) // 2):\n",
    "#         if s[i] != s[len(s) - i]:\n",
    "#             return False\n",
    "#     return True\n",
    "\n",
    "#     j = len(s) - 1\n",
    "#     for i in range(len(s) // 2):\n",
    "#         if s[i] != s[j - i]:\n",
    "#             return False\n",
    "\n",
    "#     return True\n",
    "\n",
    "#     for i in range(len(s) // 2):\n",
    "#         if s[i] != s[len(s) - i - 1]:\n",
    "#             return False\n",
    "    \n",
    "#     return True\n",
    "\n",
    "    for i in range(len(s) // 2):\n",
    "        if s[i] != s[len(s) - i - 1]:\n",
    "            return False\n",
    "    \n",
    "    return True"
   ]
  },
  {
   "cell_type": "code",
   "execution_count": 20,
   "id": "7bedeaa3",
   "metadata": {},
   "outputs": [
    {
     "data": {
      "text/plain": [
       "True"
      ]
     },
     "execution_count": 20,
     "metadata": {},
     "output_type": "execute_result"
    }
   ],
   "source": [
    "is_palindrome_v3('noon')"
   ]
  },
  {
   "cell_type": "code",
   "execution_count": 21,
   "id": "1c1ed6bb",
   "metadata": {},
   "outputs": [
    {
     "data": {
      "text/plain": [
       "True"
      ]
     },
     "execution_count": 21,
     "metadata": {},
     "output_type": "execute_result"
    }
   ],
   "source": [
    "is_palindrome_v3('racecar')"
   ]
  },
  {
   "cell_type": "code",
   "execution_count": 22,
   "id": "09bd5075",
   "metadata": {},
   "outputs": [
    {
     "data": {
      "text/plain": [
       "False"
      ]
     },
     "execution_count": 22,
     "metadata": {},
     "output_type": "execute_result"
    }
   ],
   "source": [
    "is_palindrome_v3('dented')"
   ]
  },
  {
   "cell_type": "code",
   "execution_count": 32,
   "id": "0b57c4a3",
   "metadata": {},
   "outputs": [],
   "source": [
    "def count_startswith(L, ch):\n",
    "    \"\"\" (list of str, str) -> int\n",
    "\n",
    "    Precondition: the length of each item in L is >= 1, and len(ch) == 1\n",
    "\n",
    "   Return the number of strings in L that begin with ch.\n",
    "\n",
    "   >>> count_startswith(['rumba', 'salsa', 'samba'], 's')\n",
    "   2\n",
    "   \"\"\"\n",
    "    \n",
    "#     count = 0\n",
    "\n",
    "#     for item in L:\n",
    "# \t    if item.startswith(ch):\n",
    "# \t      count = count + 1\n",
    "\n",
    "#     return count\n",
    "    \n",
    "    \n",
    "#     count = 0\n",
    "#     for item in L:\n",
    "#         if item.startswith(ch):\n",
    "# \t        count = count + 1\n",
    "# \t        return count\n",
    "#         else:\n",
    "# \t        return count\n",
    "        \n",
    "\n",
    "#     startswith = L[:]\n",
    "\n",
    "#     for item in L:\n",
    "#         if not item.startswith(ch):\n",
    "#             startswith.remove(item)\n",
    "\n",
    "#     return len(L)\n",
    "\n",
    "\n",
    "#     startswith = L[:]\n",
    "\n",
    "#     for item in L:\n",
    "#         if item.startswith(ch):\n",
    "#             startswith.remove(item)\n",
    "\n",
    "#     return len(L) - len(startswith)"
   ]
  },
  {
   "cell_type": "code",
   "execution_count": 33,
   "id": "49cd9188",
   "metadata": {},
   "outputs": [
    {
     "data": {
      "text/plain": [
       "2"
      ]
     },
     "execution_count": 33,
     "metadata": {},
     "output_type": "execute_result"
    }
   ],
   "source": [
    "count_startswith(['rumba', 'salsa', 'samba'], 's')"
   ]
  },
  {
   "cell_type": "code",
   "execution_count": 34,
   "id": "72a56b74",
   "metadata": {},
   "outputs": [
    {
     "name": "stdout",
     "output_type": "stream",
     "text": [
      "a\n",
      "b\n"
     ]
    }
   ],
   "source": [
    "for i in {'a':2,'b':3}:\n",
    "    print(i)"
   ]
  },
  {
   "cell_type": "code",
   "execution_count": 39,
   "id": "435bff63",
   "metadata": {},
   "outputs": [
    {
     "ename": "TypeError",
     "evalue": "unhashable type: 'list'",
     "output_type": "error",
     "traceback": [
      "\u001b[1;31m---------------------------------------------------------------------------\u001b[0m",
      "\u001b[1;31mTypeError\u001b[0m                                 Traceback (most recent call last)",
      "Cell \u001b[1;32mIn[39], line 1\u001b[0m\n\u001b[1;32m----> 1\u001b[0m ddd \u001b[38;5;241m=\u001b[39m {[\u001b[38;5;241m3.4\u001b[39m]:\u001b[38;5;124m'\u001b[39m\u001b[38;5;124ma\u001b[39m\u001b[38;5;124m'\u001b[39m}\n",
      "\u001b[1;31mTypeError\u001b[0m: unhashable type: 'list'"
     ]
    }
   ],
   "source": [
    "ddd = {[3.4]:'a'}"
   ]
  },
  {
   "cell_type": "code",
   "execution_count": 1,
   "id": "5284f92a",
   "metadata": {},
   "outputs": [],
   "source": [
    "s ='aa'"
   ]
  },
  {
   "cell_type": "code",
   "execution_count": 4,
   "id": "cc310b37",
   "metadata": {},
   "outputs": [
    {
     "ename": "IndexError",
     "evalue": "string index out of range",
     "output_type": "error",
     "traceback": [
      "\u001b[1;31m---------------------------------------------------------------------------\u001b[0m",
      "\u001b[1;31mIndexError\u001b[0m                                Traceback (most recent call last)",
      "Cell \u001b[1;32mIn[4], line 1\u001b[0m\n\u001b[1;32m----> 1\u001b[0m \u001b[43ms\u001b[49m\u001b[43m[\u001b[49m\u001b[38;5;241;43m2\u001b[39;49m\u001b[43m]\u001b[49m\n",
      "\u001b[1;31mIndexError\u001b[0m: string index out of range"
     ]
    }
   ],
   "source": [
    "s[2]"
   ]
  },
  {
   "cell_type": "code",
   "execution_count": null,
   "id": "5f5dee90",
   "metadata": {},
   "outputs": [],
   "source": []
  }
 ],
 "metadata": {
  "kernelspec": {
   "display_name": "TF_env",
   "language": "python",
   "name": "tf_env"
  },
  "language_info": {
   "codemirror_mode": {
    "name": "ipython",
    "version": 3
   },
   "file_extension": ".py",
   "mimetype": "text/x-python",
   "name": "python",
   "nbconvert_exporter": "python",
   "pygments_lexer": "ipython3",
   "version": "3.9.18"
  }
 },
 "nbformat": 4,
 "nbformat_minor": 5
}
