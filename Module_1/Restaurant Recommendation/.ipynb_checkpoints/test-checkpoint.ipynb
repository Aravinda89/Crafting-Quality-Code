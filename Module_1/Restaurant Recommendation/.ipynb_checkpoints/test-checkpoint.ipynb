{
 "cells": [
  {
   "cell_type": "code",
   "execution_count": 1,
   "id": "9063c0fb",
   "metadata": {},
   "outputs": [],
   "source": [
    "with open ('restaurants_small.txt', 'r') as f:\n",
    "    restaurants = f.read()"
   ]
  },
  {
   "cell_type": "code",
   "execution_count": 2,
   "id": "12d33f38",
   "metadata": {},
   "outputs": [
    {
     "data": {
      "text/plain": [
       "'Georgie Porgie\\n87%\\n$$$\\nCanadian,Pub Food\\n\\nQueen St. Cafe\\n82%\\n$\\nMalaysian,Thai\\n\\nDumplings R Us\\n71%\\n$\\nChinese\\n\\nMexican Grill\\n85%\\n$$\\nMexican\\n\\nDeep Fried Everything\\n52%\\n$\\nPub Food'"
      ]
     },
     "execution_count": 2,
     "metadata": {},
     "output_type": "execute_result"
    }
   ],
   "source": [
    "restaurants"
   ]
  },
  {
   "cell_type": "code",
   "execution_count": 3,
   "id": "083fc6cb",
   "metadata": {
    "scrolled": true
   },
   "outputs": [
    {
     "data": {
      "text/plain": [
       "['Georgie Porgie',\n",
       " '87%',\n",
       " '$$$',\n",
       " 'Canadian,Pub Food',\n",
       " '',\n",
       " 'Queen St. Cafe',\n",
       " '82%',\n",
       " '$',\n",
       " 'Malaysian,Thai',\n",
       " '',\n",
       " 'Dumplings R Us',\n",
       " '71%',\n",
       " '$',\n",
       " 'Chinese',\n",
       " '',\n",
       " 'Mexican Grill',\n",
       " '85%',\n",
       " '$$',\n",
       " 'Mexican',\n",
       " '',\n",
       " 'Deep Fried Everything',\n",
       " '52%',\n",
       " '$',\n",
       " 'Pub Food']"
      ]
     },
     "execution_count": 3,
     "metadata": {},
     "output_type": "execute_result"
    }
   ],
   "source": [
    "list1 = restaurants.splitlines()\n",
    "list1"
   ]
  },
  {
   "cell_type": "code",
   "execution_count": 4,
   "id": "94d734c3",
   "metadata": {},
   "outputs": [],
   "source": [
    "res_list = []\n",
    "tmp_list = []\n",
    "\n",
    "for i in list1:\n",
    "    if i=='':\n",
    "        res_list.append(tmp_list)\n",
    "        tmp_list = []\n",
    "        continue\n",
    "    \n",
    "    tmp_list.append(i)\n",
    "    "
   ]
  },
  {
   "cell_type": "code",
   "execution_count": 5,
   "id": "15a3bb83",
   "metadata": {},
   "outputs": [
    {
     "data": {
      "text/plain": [
       "[['Georgie Porgie', '87%', '$$$', 'Canadian,Pub Food'],\n",
       " ['Queen St. Cafe', '82%', '$', 'Malaysian,Thai'],\n",
       " ['Dumplings R Us', '71%', '$', 'Chinese'],\n",
       " ['Mexican Grill', '85%', '$$', 'Mexican']]"
      ]
     },
     "execution_count": 5,
     "metadata": {},
     "output_type": "execute_result"
    }
   ],
   "source": [
    "res_list"
   ]
  },
  {
   "cell_type": "code",
   "execution_count": 72,
   "id": "91f9ee74",
   "metadata": {},
   "outputs": [],
   "source": [
    "name_to_rating = {}\n",
    "price_to_names = {'$': [], '$$': [], '$$$': [], '$$$$': []}\n",
    "cuisine_to_names = {}"
   ]
  },
  {
   "cell_type": "code",
   "execution_count": 73,
   "id": "9b506105",
   "metadata": {},
   "outputs": [],
   "source": [
    "for res in res_list:\n",
    "#     print(res)\n",
    "    name_to_rating[res[0]] = res[1] \n",
    "    price_to_names[res[2]].append(res[0])\n",
    "    \n",
    "    for jj in res[3].split(','):\n",
    "        cuisine_to_names[jj] = []\n",
    "        cuisine_to_names[jj].append(res[0])        "
   ]
  },
  {
   "cell_type": "code",
   "execution_count": 74,
   "id": "171b3607",
   "metadata": {},
   "outputs": [
    {
     "data": {
      "text/plain": [
       "[['Georgie Porgie', '87%', '$$$', 'Canadian,Pub Food'],\n",
       " ['Queen St. Cafe', '82%', '$', 'Malaysian,Thai'],\n",
       " ['Dumplings R Us', '71%', '$', 'Chinese'],\n",
       " ['Mexican Grill', '85%', '$$', 'Mexican']]"
      ]
     },
     "execution_count": 74,
     "metadata": {},
     "output_type": "execute_result"
    }
   ],
   "source": [
    "res_list"
   ]
  },
  {
   "cell_type": "code",
   "execution_count": 75,
   "id": "65389e9b",
   "metadata": {},
   "outputs": [
    {
     "data": {
      "text/plain": [
       "{'Georgie Porgie': '87%',\n",
       " 'Queen St. Cafe': '82%',\n",
       " 'Dumplings R Us': '71%',\n",
       " 'Mexican Grill': '85%'}"
      ]
     },
     "execution_count": 75,
     "metadata": {},
     "output_type": "execute_result"
    }
   ],
   "source": [
    "name_to_rating"
   ]
  },
  {
   "cell_type": "code",
   "execution_count": 76,
   "id": "29c70abe",
   "metadata": {},
   "outputs": [
    {
     "data": {
      "text/plain": [
       "{'$': ['Queen St. Cafe', 'Dumplings R Us'],\n",
       " '$$': ['Mexican Grill'],\n",
       " '$$$': ['Georgie Porgie'],\n",
       " '$$$$': []}"
      ]
     },
     "execution_count": 76,
     "metadata": {},
     "output_type": "execute_result"
    }
   ],
   "source": [
    "price_to_names"
   ]
  },
  {
   "cell_type": "code",
   "execution_count": 77,
   "id": "0415f045",
   "metadata": {},
   "outputs": [
    {
     "data": {
      "text/plain": [
       "{'Canadian': ['Georgie Porgie'],\n",
       " 'Pub Food': ['Georgie Porgie'],\n",
       " 'Malaysian': ['Queen St. Cafe'],\n",
       " 'Thai': ['Queen St. Cafe'],\n",
       " 'Chinese': ['Dumplings R Us'],\n",
       " 'Mexican': ['Mexican Grill']}"
      ]
     },
     "execution_count": 77,
     "metadata": {},
     "output_type": "execute_result"
    }
   ],
   "source": [
    "cuisine_to_names"
   ]
  },
  {
   "cell_type": "code",
   "execution_count": 78,
   "id": "ca42b7a9",
   "metadata": {},
   "outputs": [
    {
     "data": {
      "text/plain": [
       "['Queen St. Cafe', 'Dumplings R Us']"
      ]
     },
     "execution_count": 78,
     "metadata": {},
     "output_type": "execute_result"
    }
   ],
   "source": [
    "names_matching_price = price_to_names['$']\n",
    "names_matching_price"
   ]
  },
  {
   "cell_type": "code",
   "execution_count": 79,
   "id": "3f58792e",
   "metadata": {},
   "outputs": [],
   "source": [
    "list22 = []\n",
    "\n",
    "for c_type in ['Chinese','Thai']:\n",
    "    for k in cuisine_to_names[c_type]:\n",
    "        list22.append(k)"
   ]
  },
  {
   "cell_type": "code",
   "execution_count": 80,
   "id": "76800771",
   "metadata": {},
   "outputs": [
    {
     "data": {
      "text/plain": [
       "['Queen St. Cafe', 'Dumplings R Us']"
      ]
     },
     "execution_count": 80,
     "metadata": {},
     "output_type": "execute_result"
    }
   ],
   "source": [
    "names_final = list(set(list22).intersection(set(names_matching_price)))\n",
    "names_final"
   ]
  },
  {
   "cell_type": "code",
   "execution_count": 7,
   "id": "dda97bd1",
   "metadata": {},
   "outputs": [
    {
     "ename": "NameError",
     "evalue": "name 'names_final' is not defined",
     "output_type": "error",
     "traceback": [
      "\u001b[1;31m---------------------------------------------------------------------------\u001b[0m",
      "\u001b[1;31mNameError\u001b[0m                                 Traceback (most recent call last)",
      "Cell \u001b[1;32mIn[7], line 2\u001b[0m\n\u001b[0;32m      1\u001b[0m final_list \u001b[38;5;241m=\u001b[39m []\n\u001b[1;32m----> 2\u001b[0m \u001b[38;5;28;01mfor\u001b[39;00m ll \u001b[38;5;129;01min\u001b[39;00m \u001b[43mnames_final\u001b[49m:    \n\u001b[0;32m      3\u001b[0m     final_list\u001b[38;5;241m.\u001b[39mappend([name_to_rating[ll],ll])\n\u001b[0;32m      4\u001b[0m final_list\u001b[38;5;241m.\u001b[39msort(reverse\u001b[38;5;241m=\u001b[39m\u001b[38;5;28;01mTrue\u001b[39;00m)\n",
      "\u001b[1;31mNameError\u001b[0m: name 'names_final' is not defined"
     ]
    }
   ],
   "source": [
    "final_list = []\n",
    "for ll in names_final:    \n",
    "    final_list.append([name_to_rating[ll],ll])\n",
    "final_list.sort(reverse=True)\n",
    "final_list"
   ]
  },
  {
   "cell_type": "code",
   "execution_count": 84,
   "id": "63386e2d",
   "metadata": {},
   "outputs": [
    {
     "data": {
      "text/plain": [
       "[['82%', 'Queen St. Cafe'], ['71%', 'Dumplings R Us']]"
      ]
     },
     "execution_count": 84,
     "metadata": {},
     "output_type": "execute_result"
    }
   ],
   "source": [
    "final_list.sort(reverse=True)\n",
    "final_list"
   ]
  }
 ],
 "metadata": {
  "kernelspec": {
   "display_name": "TF_env",
   "language": "python",
   "name": "tf_env"
  },
  "language_info": {
   "codemirror_mode": {
    "name": "ipython",
    "version": 3
   },
   "file_extension": ".py",
   "mimetype": "text/x-python",
   "name": "python",
   "nbconvert_exporter": "python",
   "pygments_lexer": "ipython3",
   "version": "3.9.18"
  }
 },
 "nbformat": 4,
 "nbformat_minor": 5
}
