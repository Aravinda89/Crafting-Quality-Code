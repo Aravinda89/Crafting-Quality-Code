{
 "cells": [
  {
   "cell_type": "code",
   "execution_count": 1,
   "id": "e0b67b15",
   "metadata": {},
   "outputs": [],
   "source": [
    "# The file containing the restaurant data.\n",
    "FILENAME = 'restaurants_small.txt'"
   ]
  },
  {
   "cell_type": "code",
   "execution_count": 27,
   "id": "f033431e",
   "metadata": {},
   "outputs": [],
   "source": [
    "def recommend(file, price, cuisines_list):\n",
    "    \"\"\"(file open for reading, str, list of str) -> list of [int, str] list\n",
    "\n",
    "    Find restaurants in file that are priced according to price and that are\n",
    "    tagged with any of the items in cuisines_list.  Return a list of lists of\n",
    "    the form [rating%, restaurant name], sorted by rating%.\n",
    "    \"\"\"\n",
    "\n",
    "    # Read the file and build the data structures.\n",
    "    # - a dict of {restaurant name: rating%}\n",
    "    # - a dict of {price: list of restaurant names}\n",
    "    # - a dict of {cusine: list of restaurant names}\n",
    "    name_to_rating, price_to_names, cuisine_to_names = read_restaurants(file)\n",
    "\n",
    "    # Look for price or cuisines first?\n",
    "    # Price: look up the list of restaurant names for the requested price.\n",
    "    names_matching_price = price_to_names[price]\n",
    "\n",
    "    # Now we have a list of restaurants in the right price range.\n",
    "    # Need a new list of restaurants that serve one of the cuisines.\n",
    "    names_final = filter_by_cuisine(names_matching_price, cuisine_to_names, cuisines_list)\n",
    "\n",
    "    # Now we have a list of restaurants that are in the right price range and serve the requested cuisine.\n",
    "    # Need to look at ratings and sort this list.\n",
    "    result = build_rating_list(name_to_rating, names_final)\n",
    "    \n",
    "    # We're done!  Return that sorted list.\n",
    "    return result"
   ]
  },
  {
   "cell_type": "code",
   "execution_count": 23,
   "id": "8e475582",
   "metadata": {},
   "outputs": [],
   "source": [
    "def build_rating_list(name_to_rating, names_final):\n",
    "    \"\"\" (dict of {str: int}, list of str) -> list of list of [int, str]\n",
    "\n",
    "    Return a list of [rating%, restaurant name], sorted by rating%\n",
    "\n",
    "    >>> name_to_rating = {'Georgie Porgie': 87,\n",
    "     'Queen St. Cafe': 82,\n",
    "     'Dumplings R Us': 71,\n",
    "     'Mexican Grill': 85,\n",
    "     'Deep Fried Everything': 52}\n",
    "    >>> names = ['Queen St. Cafe', 'Dumplings R Us']\n",
    "    [[82, 'Queen St. Cafe'], [71, 'Dumplings R Us']]\"\"\"\n",
    "    \n",
    "    final_list = []\n",
    "    for ll in names_final:\n",
    "        final_list.append([name_to_rating[ll], ll])\n",
    "    final_list.sort(reverse=True)\n",
    "    return final_list"
   ]
  },
  {
   "cell_type": "code",
   "execution_count": 18,
   "id": "446d7093",
   "metadata": {},
   "outputs": [],
   "source": [
    "def filter_by_cuisine(names_matching_price, cuisine_to_names, cuisines_list):\n",
    "    \"\"\" (list of str, dict of {str: list of str}, list of str) -> list of str\n",
    "\n",
    "    >>> names = ['Queen St. Cafe', 'Dumplings R Us', 'Deep Fried Everything']\n",
    "    >>> cuis = 'Canadian': ['Georgie Porgie'],\n",
    "     'Pub Food': ['Georgie Porgie', 'Deep Fried Everything'],\n",
    "     'Malaysian': ['Queen St. Cafe'],\n",
    "     'Thai': ['Queen St. Cafe'],\n",
    "     'Chinese': ['Dumplings R Us'],\n",
    "     'Mexican': ['Mexican Grill']}\n",
    "    >>> cuisines = ['Chinese', 'Thai']\n",
    "    >>> filter_by_cuisine(names, cuis, cuisines)\n",
    "    ['Queen St. Cafe', 'Dumplings R Us']\n",
    "    \"\"\"\n",
    "    c_list = []\n",
    "    for cuisine_type in cuisines_list:\n",
    "        for k in cuisine_to_names[cuisine_type]:\n",
    "            c_list.append(k)\n",
    "    \n",
    "    fnames = list(set(c_list).intersection(set(names_matching_price)))\n",
    "    return fnames"
   ]
  },
  {
   "cell_type": "code",
   "execution_count": 9,
   "id": "cff28608",
   "metadata": {},
   "outputs": [],
   "source": [
    "def read_restaurants(file):\n",
    "    \"\"\" (file) -> (dict, dict, dict)\n",
    "\n",
    "    Return a tuple of three dictionaries based on the information in the file:\n",
    "\n",
    "    - a dict of {restaurant name: rating%}\n",
    "    - a dict of {price: list of restaurant names}\n",
    "    - a dict of {cusine: list of restaurant names}\n",
    "    \"\"\"\n",
    "    \n",
    "    name_to_rating = {}\n",
    "    price_to_names = {'$': [], '$$': [], '$$$': [], '$$$$': []}\n",
    "    cuisine_to_names = {}\n",
    "    \n",
    "    # read txt file\n",
    "    with open (file, 'r') as f:\n",
    "        restaurants_list = f.read()\n",
    "        \n",
    "    # splitlines\n",
    "    restaurants_list = restaurants_list.splitlines()\n",
    "    \n",
    "    # create list of resturants list\n",
    "    res_list = []\n",
    "    tmp_list = []\n",
    "    \n",
    "    for i in restaurants_list:\n",
    "        if i=='':\n",
    "            res_list.append(tmp_list)\n",
    "            tmp_list = []\n",
    "            continue\n",
    "        tmp_list.append(i)\n",
    "        \n",
    "    # create dicts    \n",
    "    for res in res_list:\n",
    "        name_to_rating[res[0]] = res[1] \n",
    "        price_to_names[res[2]].append(res[0])\n",
    "    \n",
    "        for jj in res[3].split(','):\n",
    "            cuisine_to_names[jj] = []\n",
    "            cuisine_to_names[jj].append(res[0])        \n",
    "    \n",
    "    return name_to_rating, price_to_names, cuisine_to_names"
   ]
  },
  {
   "cell_type": "code",
   "execution_count": 10,
   "id": "1627c350",
   "metadata": {},
   "outputs": [],
   "source": [
    "name_to_rating, price_to_names, cuisine_to_names = read_restaurants(FILENAME)"
   ]
  },
  {
   "cell_type": "code",
   "execution_count": 11,
   "id": "cfedfc20",
   "metadata": {},
   "outputs": [
    {
     "data": {
      "text/plain": [
       "{'Georgie Porgie': '87%',\n",
       " 'Queen St. Cafe': '82%',\n",
       " 'Dumplings R Us': '71%',\n",
       " 'Mexican Grill': '85%'}"
      ]
     },
     "execution_count": 11,
     "metadata": {},
     "output_type": "execute_result"
    }
   ],
   "source": [
    "name_to_rating"
   ]
  },
  {
   "cell_type": "code",
   "execution_count": 12,
   "id": "3534013c",
   "metadata": {},
   "outputs": [
    {
     "data": {
      "text/plain": [
       "{'$': ['Queen St. Cafe', 'Dumplings R Us'],\n",
       " '$$': ['Mexican Grill'],\n",
       " '$$$': ['Georgie Porgie'],\n",
       " '$$$$': []}"
      ]
     },
     "execution_count": 12,
     "metadata": {},
     "output_type": "execute_result"
    }
   ],
   "source": [
    "price_to_names"
   ]
  },
  {
   "cell_type": "code",
   "execution_count": 13,
   "id": "c5159fcf",
   "metadata": {},
   "outputs": [
    {
     "data": {
      "text/plain": [
       "{'Canadian': ['Georgie Porgie'],\n",
       " 'Pub Food': ['Georgie Porgie'],\n",
       " 'Malaysian': ['Queen St. Cafe'],\n",
       " 'Thai': ['Queen St. Cafe'],\n",
       " 'Chinese': ['Dumplings R Us'],\n",
       " 'Mexican': ['Mexican Grill']}"
      ]
     },
     "execution_count": 13,
     "metadata": {},
     "output_type": "execute_result"
    }
   ],
   "source": [
    "cuisine_to_names"
   ]
  },
  {
   "cell_type": "code",
   "execution_count": 14,
   "id": "2703ae88",
   "metadata": {},
   "outputs": [
    {
     "data": {
      "text/plain": [
       "['Queen St. Cafe', 'Dumplings R Us']"
      ]
     },
     "execution_count": 14,
     "metadata": {},
     "output_type": "execute_result"
    }
   ],
   "source": [
    "names_matching_price = price_to_names['$']\n",
    "names_matching_price"
   ]
  },
  {
   "cell_type": "code",
   "execution_count": 35,
   "id": "8f5db067",
   "metadata": {},
   "outputs": [
    {
     "data": {
      "text/plain": [
       "['Dumplings R Us', 'Queen St. Cafe']"
      ]
     },
     "execution_count": 35,
     "metadata": {},
     "output_type": "execute_result"
    }
   ],
   "source": [
    "names_final = filter_by_cuisine(names_matching_price, cuisine_to_names, cuisines_list)\n",
    "names_final"
   ]
  },
  {
   "cell_type": "code",
   "execution_count": 25,
   "id": "0333de91",
   "metadata": {},
   "outputs": [
    {
     "data": {
      "text/plain": [
       "[['82%', 'Queen St. Cafe'], ['71%', 'Dumplings R Us']]"
      ]
     },
     "execution_count": 25,
     "metadata": {},
     "output_type": "execute_result"
    }
   ],
   "source": [
    "result = build_rating_list(name_to_rating, names_final)\n",
    "result"
   ]
  },
  {
   "cell_type": "code",
   "execution_count": 38,
   "id": "ce121752",
   "metadata": {},
   "outputs": [
    {
     "data": {
      "text/plain": [
       "[['82%', 'Queen St. Cafe'], ['71%', 'Dumplings R Us']]"
      ]
     },
     "execution_count": 38,
     "metadata": {},
     "output_type": "execute_result"
    }
   ],
   "source": [
    "FILENAME = 'restaurants_small.txt'\n",
    "cuisines_list = ['Chinese','Thai']\n",
    "PRICE = \"$\"\n",
    "\n",
    "recommend(FILENAME, PRICE, cuisines_list)"
   ]
  },
  {
   "cell_type": "code",
   "execution_count": null,
   "id": "a53cf4da",
   "metadata": {},
   "outputs": [],
   "source": []
  }
 ],
 "metadata": {
  "kernelspec": {
   "display_name": "TF_env",
   "language": "python",
   "name": "tf_env"
  },
  "language_info": {
   "codemirror_mode": {
    "name": "ipython",
    "version": 3
   },
   "file_extension": ".py",
   "mimetype": "text/x-python",
   "name": "python",
   "nbconvert_exporter": "python",
   "pygments_lexer": "ipython3",
   "version": "3.9.18"
  }
 },
 "nbformat": 4,
 "nbformat_minor": 5
}
