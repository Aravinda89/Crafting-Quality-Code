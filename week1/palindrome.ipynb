{
 "cells": [
  {
   "cell_type": "code",
   "execution_count": 1,
   "id": "f738e889",
   "metadata": {},
   "outputs": [],
   "source": [
    "def is_palindrome_v1(s):\n",
    "    \"\"\" (str) -> bool\n",
    "\n",
    "    Return True if and only if s is palindrome\n",
    "\n",
    "    >>> is_palindrome_v1('noon')\n",
    "    True\n",
    "    >>> is_palindrome_v1('racecar')\n",
    "    True\n",
    "    >>> is_palindrome_v1('dented')\n",
    "    False\n",
    "    \"\"\"\n",
    "    \n",
    "    return reverse(s)==s\n",
    "\n",
    "def reverse(s):\n",
    "    \"\"\" (str) -> str\n",
    "\n",
    "    Return a reversed version of s.\n",
    "\n",
    "    >>> reverse('hello')\n",
    "    'olleh'\n",
    "    >>> reverse('a')\n",
    "    'a'\n",
    "    \"\"\"\n",
    "\n",
    "    rev = ''\n",
    "\n",
    "    # For each character in s, add that char to the beginning of rev.\n",
    "    for ch in s:\n",
    "        rev = ch + rev\n",
    "\n",
    "    return rev"
   ]
  },
  {
   "cell_type": "code",
   "execution_count": 2,
   "id": "af672899",
   "metadata": {},
   "outputs": [
    {
     "data": {
      "text/plain": [
       "'olleh'"
      ]
     },
     "execution_count": 2,
     "metadata": {},
     "output_type": "execute_result"
    }
   ],
   "source": [
    "reverse('hello')"
   ]
  },
  {
   "cell_type": "code",
   "execution_count": 3,
   "id": "5fd909d7",
   "metadata": {},
   "outputs": [
    {
     "data": {
      "text/plain": [
       "True"
      ]
     },
     "execution_count": 3,
     "metadata": {},
     "output_type": "execute_result"
    }
   ],
   "source": [
    "is_palindrome_v1('racecar')"
   ]
  },
  {
   "cell_type": "code",
   "execution_count": 4,
   "id": "08a3009a",
   "metadata": {},
   "outputs": [
    {
     "data": {
      "text/plain": [
       "False"
      ]
     },
     "execution_count": 4,
     "metadata": {},
     "output_type": "execute_result"
    }
   ],
   "source": [
    "is_palindrome_v1('dented')"
   ]
  },
  {
   "cell_type": "code",
   "execution_count": 5,
   "id": "8bb71ead",
   "metadata": {},
   "outputs": [],
   "source": [
    "def is_palindrome_v2(s):\n",
    "    \"\"\" (str) -> bool\n",
    "\n",
    "    Return True if and only if s is palindrome\n",
    "\n",
    "    >>> is_palindrome_v2('noon')\n",
    "    True\n",
    "    >>> is_palindrome_v2('racecar')\n",
    "    True\n",
    "    >>> is_palindrome_v2('dented')\n",
    "    False\n",
    "    \"\"\"\n",
    "    \n",
    "    # number of chars in s\n",
    "    n = len(s)\n",
    "    \n",
    "    # Compare first half of s to the reverse of the second half,\n",
    "    # Omit the middle character of an odd-length string\n",
    "    return s[:n // 2] == reverse(s[n - n//2:])\n",
    "    \n",
    "\n",
    "def reverse(s):\n",
    "    \"\"\" (str) -> str\n",
    "\n",
    "    Return a reversed version of s.\n",
    "\n",
    "    >>> reverse('hello')\n",
    "    'olleh'\n",
    "    >>> reverse('a')\n",
    "    'a'\n",
    "    \"\"\"\n",
    "\n",
    "    rev = ''\n",
    "\n",
    "    # For each character in s, add that char to the beginning of rev.\n",
    "    for ch in s:\n",
    "        rev = ch + rev\n",
    "\n",
    "    return rev"
   ]
  },
  {
   "cell_type": "code",
   "execution_count": 6,
   "id": "13861bc5",
   "metadata": {},
   "outputs": [
    {
     "data": {
      "text/plain": [
       "True"
      ]
     },
     "execution_count": 6,
     "metadata": {},
     "output_type": "execute_result"
    }
   ],
   "source": [
    "is_palindrome_v2('noon')"
   ]
  },
  {
   "cell_type": "code",
   "execution_count": 7,
   "id": "1d11df43",
   "metadata": {},
   "outputs": [
    {
     "data": {
      "text/plain": [
       "True"
      ]
     },
     "execution_count": 7,
     "metadata": {},
     "output_type": "execute_result"
    }
   ],
   "source": [
    "is_palindrome_v2('racecar')"
   ]
  },
  {
   "cell_type": "code",
   "execution_count": 8,
   "id": "a6f60bd6",
   "metadata": {},
   "outputs": [
    {
     "data": {
      "text/plain": [
       "False"
      ]
     },
     "execution_count": 8,
     "metadata": {},
     "output_type": "execute_result"
    }
   ],
   "source": [
    "is_palindrome_v2('dented')"
   ]
  },
  {
   "cell_type": "code",
   "execution_count": 9,
   "id": "3a524b91",
   "metadata": {},
   "outputs": [],
   "source": [
    "def is_palindrome_v3(s):\n",
    "    \"\"\" (str) -> bool\n",
    "\n",
    "    Return True if and only if s is palindrome\n",
    "\n",
    "    >>> is_palindrome_v3('noon')\n",
    "    True\n",
    "    >>> is_palindrome_v3('racecar')\n",
    "    True\n",
    "    >>> is_palindrome_v3('dented')\n",
    "    False\n",
    "    \"\"\"\n",
    "    \n",
    "    i = 0\n",
    "    j = len(s) - 1\n",
    "    \n",
    "    while i < j and s[i] == s[j]:\n",
    "        i = i + 1\n",
    "        j = j - 1\n",
    "    return j <= i    "
   ]
  },
  {
   "cell_type": "code",
   "execution_count": 10,
   "id": "bd8496b6",
   "metadata": {},
   "outputs": [
    {
     "data": {
      "text/plain": [
       "True"
      ]
     },
     "execution_count": 10,
     "metadata": {},
     "output_type": "execute_result"
    }
   ],
   "source": [
    "is_palindrome_v3('noon')"
   ]
  },
  {
   "cell_type": "code",
   "execution_count": 11,
   "id": "4f81448a",
   "metadata": {},
   "outputs": [
    {
     "data": {
      "text/plain": [
       "False"
      ]
     },
     "execution_count": 11,
     "metadata": {},
     "output_type": "execute_result"
    }
   ],
   "source": [
    "is_palindrome_v3('dented')"
   ]
  },
  {
   "cell_type": "code",
   "execution_count": null,
   "id": "8646df67",
   "metadata": {},
   "outputs": [],
   "source": []
  }
 ],
 "metadata": {
  "kernelspec": {
   "display_name": "TF_env",
   "language": "python",
   "name": "tf_env"
  },
  "language_info": {
   "codemirror_mode": {
    "name": "ipython",
    "version": 3
   },
   "file_extension": ".py",
   "mimetype": "text/x-python",
   "name": "python",
   "nbconvert_exporter": "python",
   "pygments_lexer": "ipython3",
   "version": "3.9.18"
  }
 },
 "nbformat": 4,
 "nbformat_minor": 5
}
