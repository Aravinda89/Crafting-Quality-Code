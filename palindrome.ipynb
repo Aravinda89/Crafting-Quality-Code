{
  "nbformat": 4,
  "nbformat_minor": 0,
  "metadata": {
    "colab": {
      "provenance": [],
      "authorship_tag": "ABX9TyPf6e+9syeNUXSYJ4FwhkkV",
      "include_colab_link": true
    },
    "kernelspec": {
      "name": "python3",
      "display_name": "Python 3"
    },
    "language_info": {
      "name": "python"
    }
  },
  "cells": [
    {
      "cell_type": "markdown",
      "metadata": {
        "id": "view-in-github",
        "colab_type": "text"
      },
      "source": [
        "<a href=\"https://colab.research.google.com/github/Aravinda89/crafting-quality-code/blob/main/palindrome.ipynb\" target=\"_parent\"><img src=\"https://colab.research.google.com/assets/colab-badge.svg\" alt=\"Open In Colab\"/></a>"
      ]
    },
    {
      "cell_type": "code",
      "execution_count": 10,
      "metadata": {
        "id": "_I8ET-CiOplX"
      },
      "outputs": [],
      "source": [
        "def is_palindrome_v1(s):\n",
        "  \"\"\"\n",
        "  (str)-> bool\n",
        "\n",
        "  Return True if and only if s is a palindrome.\n",
        "\n",
        "  >> is_palindrome_v1('noon')\n",
        "  True\n",
        "  >> is_palindrome_v1('racecar')\n",
        "  True\n",
        "  >> is_palindrome_v1('dented')\n",
        "  False\n",
        "  >>\n",
        "  \"\"\"\n",
        "\n",
        "  return 0"
      ]
    },
    {
      "cell_type": "code",
      "source": [],
      "metadata": {
        "id": "PKHlhgR_Rztc"
      },
      "execution_count": null,
      "outputs": []
    }
  ]
}