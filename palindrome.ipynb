{
  "nbformat": 4,
  "nbformat_minor": 0,
  "metadata": {
    "colab": {
      "provenance": [],
      "authorship_tag": "ABX9TyOCIVYWiOgNvyD/Oc6t3FnN",
      "include_colab_link": true
    },
    "kernelspec": {
      "name": "python3",
      "display_name": "Python 3"
    },
    "language_info": {
      "name": "python"
    }
  },
  "cells": [
    {
      "cell_type": "markdown",
      "metadata": {
        "id": "view-in-github",
        "colab_type": "text"
      },
      "source": [
        "<a href=\"https://colab.research.google.com/github/Aravinda89/crafting-quality-code/blob/main/palindrome.ipynb\" target=\"_parent\"><img src=\"https://colab.research.google.com/assets/colab-badge.svg\" alt=\"Open In Colab\"/></a>"
      ]
    },
    {
      "cell_type": "code",
      "execution_count": 1,
      "metadata": {
        "colab": {
          "base_uri": "https://localhost:8080/",
          "height": 35
        },
        "id": "_I8ET-CiOplX",
        "outputId": "f4d17eb3-d0a1-4d2b-c000-1abe852b27f0"
      },
      "outputs": [
        {
          "output_type": "execute_result",
          "data": {
            "text/plain": [
              "\"\\n>> is_palindrome_v1('noon')\\nTrue\\n>> \\n\""
            ],
            "application/vnd.google.colaboratory.intrinsic+json": {
              "type": "string"
            }
          },
          "metadata": {},
          "execution_count": 1
        }
      ],
      "source": [
        "def is_palindrome_v1(s):\n",
        "\"\"\"（str）-> bool\n",
        "\n",
        "Return True if and only if s is a palindrome.\n",
        "\n",
        ">> is_palindrome_v1('noon')\n",
        "True\n",
        ">> is_palindrome_v1('racecar')\n",
        "True\n",
        ">> is_palindrome_v1('dented')\n",
        "False\n",
        ">>\n",
        "\"\"\""
      ]
    }
  ]
}